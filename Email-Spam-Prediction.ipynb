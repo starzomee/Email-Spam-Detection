{
 "cells": [
  {
   "cell_type": "markdown",
   "id": "4ab31d09-817c-4c7e-830f-89d6db1dfcfc",
   "metadata": {},
   "source": [
    "# DataSet link \n",
    "https://www.kaggle.com/datasets/esraaaabdelrazek/mail-data"
   ]
  },
  {
   "cell_type": "markdown",
   "id": "add8aa4c-29e9-40b3-bab1-1f5747fe8e3b",
   "metadata": {},
   "source": [
    "# importing Dependencies"
   ]
  },
  {
   "cell_type": "code",
   "execution_count": 1,
   "id": "83463db6-1f9f-4022-8010-e574174ae2ad",
   "metadata": {},
   "outputs": [],
   "source": [
    "import pandas as pd \n",
    "import numpy as np \n",
    "import matplotlib.pyplot as plt \n",
    "import seaborn as sns\n",
    "import sklearn\n",
    "from sklearn.model_selection import train_test_split\n",
    "from sklearn.feature_extraction.text import TfidfVectorizer\n",
    "from sklearn.linear_model import LogisticRegression\n",
    "from sklearn.tree import DecisionTreeClassifier\n",
    "\n",
    "from sklearn.metrics import  accuracy_score"
   ]
  },
  {
   "cell_type": "markdown",
   "id": "20d7449d-9182-490c-bab1-11137f5f4e85",
   "metadata": {},
   "source": [
    "# Data Collection & Pre-processing"
   ]
  },
  {
   "cell_type": "markdown",
   "id": "399cba44-f66b-4961-afdc-aa3fda91d693",
   "metadata": {},
   "source": []
  },
  {
   "cell_type": "code",
   "execution_count": 2,
   "id": "b36875e4-13a2-4cbd-afd6-80e10c43272e",
   "metadata": {},
   "outputs": [],
   "source": [
    "full_data = pd.read_csv(\"mail_data.csv\")"
   ]
  },
  {
   "cell_type": "code",
   "execution_count": 3,
   "id": "6868ddee-3a02-4fc2-9d2e-56110ee6d884",
   "metadata": {},
   "outputs": [
    {
     "data": {
      "text/html": [
       "<div>\n",
       "<style scoped>\n",
       "    .dataframe tbody tr th:only-of-type {\n",
       "        vertical-align: middle;\n",
       "    }\n",
       "\n",
       "    .dataframe tbody tr th {\n",
       "        vertical-align: top;\n",
       "    }\n",
       "\n",
       "    .dataframe thead th {\n",
       "        text-align: right;\n",
       "    }\n",
       "</style>\n",
       "<table border=\"1\" class=\"dataframe\">\n",
       "  <thead>\n",
       "    <tr style=\"text-align: right;\">\n",
       "      <th></th>\n",
       "      <th>Category</th>\n",
       "      <th>Message</th>\n",
       "    </tr>\n",
       "  </thead>\n",
       "  <tbody>\n",
       "    <tr>\n",
       "      <th>0</th>\n",
       "      <td>ham</td>\n",
       "      <td>Go until jurong point, crazy.. Available only ...</td>\n",
       "    </tr>\n",
       "    <tr>\n",
       "      <th>1</th>\n",
       "      <td>ham</td>\n",
       "      <td>Ok lar... Joking wif u oni...</td>\n",
       "    </tr>\n",
       "    <tr>\n",
       "      <th>2</th>\n",
       "      <td>spam</td>\n",
       "      <td>Free entry in 2 a wkly comp to win FA Cup fina...</td>\n",
       "    </tr>\n",
       "    <tr>\n",
       "      <th>3</th>\n",
       "      <td>ham</td>\n",
       "      <td>U dun say so early hor... U c already then say...</td>\n",
       "    </tr>\n",
       "    <tr>\n",
       "      <th>4</th>\n",
       "      <td>ham</td>\n",
       "      <td>Nah I don't think he goes to usf, he lives aro...</td>\n",
       "    </tr>\n",
       "  </tbody>\n",
       "</table>\n",
       "</div>"
      ],
      "text/plain": [
       "  Category                                            Message\n",
       "0      ham  Go until jurong point, crazy.. Available only ...\n",
       "1      ham                      Ok lar... Joking wif u oni...\n",
       "2     spam  Free entry in 2 a wkly comp to win FA Cup fina...\n",
       "3      ham  U dun say so early hor... U c already then say...\n",
       "4      ham  Nah I don't think he goes to usf, he lives aro..."
      ]
     },
     "execution_count": 3,
     "metadata": {},
     "output_type": "execute_result"
    }
   ],
   "source": [
    "full_data.head(5)"
   ]
  },
  {
   "cell_type": "markdown",
   "id": "70b5a7a4-181d-4549-867a-45c1e62370f1",
   "metadata": {},
   "source": [
    "# Data Cleaning"
   ]
  },
  {
   "cell_type": "code",
   "execution_count": 4,
   "id": "4157fe40-7cfc-45b0-b26d-ef9e639d149b",
   "metadata": {},
   "outputs": [],
   "source": [
    "# replace the null values with null string \n",
    "mail_data = full_data.where((pd.notnull(full_data)), '')"
   ]
  },
  {
   "cell_type": "code",
   "execution_count": 5,
   "id": "9f0644ce-0adc-482c-a0bf-b786afba5571",
   "metadata": {},
   "outputs": [
    {
     "data": {
      "text/html": [
       "<div>\n",
       "<style scoped>\n",
       "    .dataframe tbody tr th:only-of-type {\n",
       "        vertical-align: middle;\n",
       "    }\n",
       "\n",
       "    .dataframe tbody tr th {\n",
       "        vertical-align: top;\n",
       "    }\n",
       "\n",
       "    .dataframe thead th {\n",
       "        text-align: right;\n",
       "    }\n",
       "</style>\n",
       "<table border=\"1\" class=\"dataframe\">\n",
       "  <thead>\n",
       "    <tr style=\"text-align: right;\">\n",
       "      <th></th>\n",
       "      <th>Category</th>\n",
       "      <th>Message</th>\n",
       "    </tr>\n",
       "  </thead>\n",
       "  <tbody>\n",
       "    <tr>\n",
       "      <th>0</th>\n",
       "      <td>ham</td>\n",
       "      <td>Go until jurong point, crazy.. Available only ...</td>\n",
       "    </tr>\n",
       "    <tr>\n",
       "      <th>1</th>\n",
       "      <td>ham</td>\n",
       "      <td>Ok lar... Joking wif u oni...</td>\n",
       "    </tr>\n",
       "    <tr>\n",
       "      <th>2</th>\n",
       "      <td>spam</td>\n",
       "      <td>Free entry in 2 a wkly comp to win FA Cup fina...</td>\n",
       "    </tr>\n",
       "    <tr>\n",
       "      <th>3</th>\n",
       "      <td>ham</td>\n",
       "      <td>U dun say so early hor... U c already then say...</td>\n",
       "    </tr>\n",
       "  </tbody>\n",
       "</table>\n",
       "</div>"
      ],
      "text/plain": [
       "  Category                                            Message\n",
       "0      ham  Go until jurong point, crazy.. Available only ...\n",
       "1      ham                      Ok lar... Joking wif u oni...\n",
       "2     spam  Free entry in 2 a wkly comp to win FA Cup fina...\n",
       "3      ham  U dun say so early hor... U c already then say..."
      ]
     },
     "execution_count": 5,
     "metadata": {},
     "output_type": "execute_result"
    }
   ],
   "source": [
    "mail_data.head(4)"
   ]
  },
  {
   "cell_type": "code",
   "execution_count": 6,
   "id": "80d2370e-b7a3-4b65-bb88-9683232e8f7f",
   "metadata": {},
   "outputs": [
    {
     "data": {
      "text/plain": [
       "(5572, 2)"
      ]
     },
     "execution_count": 6,
     "metadata": {},
     "output_type": "execute_result"
    }
   ],
   "source": [
    "mail_data.shape"
   ]
  },
  {
   "cell_type": "markdown",
   "id": "5969f758-f616-47bd-8e3e-ffb3782ebc48",
   "metadata": {},
   "source": [
    "# 1. label encoding"
   ]
  },
  {
   "cell_type": "code",
   "execution_count": 7,
   "id": "29e12c68-f725-4227-b102-ebb54fc8fc86",
   "metadata": {},
   "outputs": [
    {
     "data": {
      "text/plain": [
       "\"mail_data.loc[mail_data['Category'] == 'spam' , 'Category'] = 0\\nmail_data.loc[mail_data['Category'] == 'ham' , 'Category'] = 1\""
      ]
     },
     "execution_count": 7,
     "metadata": {},
     "output_type": "execute_result"
    }
   ],
   "source": [
    "# label spam mail as 0 ; and ham as 1;\n",
    "\"\"\"mail_data.loc[mail_data['Category'] == 'spam' , 'Category'] = 0\n",
    "mail_data.loc[mail_data['Category'] == 'ham' , 'Category'] = 1\"\"\""
   ]
  },
  {
   "cell_type": "code",
   "execution_count": 8,
   "id": "0f5cdb64-54a6-4430-af01-0f969af0cda1",
   "metadata": {},
   "outputs": [],
   "source": [
    "# label spam mail as 0 ; and ham as 1;\n",
    "mail_data['Category'] = mail_data['Category'].map({'spam': 0, 'ham': 1})\n"
   ]
  },
  {
   "cell_type": "raw",
   "id": "b6d17e8c-3137-42b4-b878-7c3faa6442ed",
   "metadata": {},
   "source": [
    "spam - 0 \n",
    "ham - 1"
   ]
  },
  {
   "cell_type": "code",
   "execution_count": 9,
   "id": "8e2268a9-786f-4e38-a85b-e9d7faaf7296",
   "metadata": {},
   "outputs": [
    {
     "data": {
      "text/html": [
       "<div>\n",
       "<style scoped>\n",
       "    .dataframe tbody tr th:only-of-type {\n",
       "        vertical-align: middle;\n",
       "    }\n",
       "\n",
       "    .dataframe tbody tr th {\n",
       "        vertical-align: top;\n",
       "    }\n",
       "\n",
       "    .dataframe thead th {\n",
       "        text-align: right;\n",
       "    }\n",
       "</style>\n",
       "<table border=\"1\" class=\"dataframe\">\n",
       "  <thead>\n",
       "    <tr style=\"text-align: right;\">\n",
       "      <th></th>\n",
       "      <th>Category</th>\n",
       "      <th>Message</th>\n",
       "    </tr>\n",
       "  </thead>\n",
       "  <tbody>\n",
       "    <tr>\n",
       "      <th>0</th>\n",
       "      <td>1</td>\n",
       "      <td>Go until jurong point, crazy.. Available only ...</td>\n",
       "    </tr>\n",
       "    <tr>\n",
       "      <th>1</th>\n",
       "      <td>1</td>\n",
       "      <td>Ok lar... Joking wif u oni...</td>\n",
       "    </tr>\n",
       "  </tbody>\n",
       "</table>\n",
       "</div>"
      ],
      "text/plain": [
       "   Category                                            Message\n",
       "0         1  Go until jurong point, crazy.. Available only ...\n",
       "1         1                      Ok lar... Joking wif u oni..."
      ]
     },
     "execution_count": 9,
     "metadata": {},
     "output_type": "execute_result"
    }
   ],
   "source": [
    "mail_data.head(2)"
   ]
  },
  {
   "cell_type": "markdown",
   "id": "ec48919b-f8b8-424f-9e18-deccd1023c62",
   "metadata": {},
   "source": [
    "# 2. Missing Values Handling "
   ]
  },
  {
   "cell_type": "code",
   "execution_count": 10,
   "id": "e581e2c7-bc7f-4b38-9d5f-e1a0f1dad66a",
   "metadata": {},
   "outputs": [
    {
     "data": {
      "text/plain": [
       "Category    0\n",
       "Message     0\n",
       "dtype: int64"
      ]
     },
     "execution_count": 10,
     "metadata": {},
     "output_type": "execute_result"
    }
   ],
   "source": [
    "mail_data.isnull().sum()"
   ]
  },
  {
   "cell_type": "markdown",
   "id": "72d40a75-b6c0-4f22-8c0e-3d5fe4478b0e",
   "metadata": {},
   "source": [
    "# 3. Duplicates"
   ]
  },
  {
   "cell_type": "code",
   "execution_count": 46,
   "id": "d59be5f9-e4f5-40a5-b5fe-b7c17ef3a61f",
   "metadata": {},
   "outputs": [
    {
     "data": {
      "text/html": [
       "<div>\n",
       "<style scoped>\n",
       "    .dataframe tbody tr th:only-of-type {\n",
       "        vertical-align: middle;\n",
       "    }\n",
       "\n",
       "    .dataframe tbody tr th {\n",
       "        vertical-align: top;\n",
       "    }\n",
       "\n",
       "    .dataframe thead th {\n",
       "        text-align: right;\n",
       "    }\n",
       "</style>\n",
       "<table border=\"1\" class=\"dataframe\">\n",
       "  <thead>\n",
       "    <tr style=\"text-align: right;\">\n",
       "      <th></th>\n",
       "      <th>Category</th>\n",
       "      <th>Message</th>\n",
       "    </tr>\n",
       "  </thead>\n",
       "  <tbody>\n",
       "    <tr>\n",
       "      <th>0</th>\n",
       "      <td>1</td>\n",
       "      <td>Go until jurong point, crazy.. Available only ...</td>\n",
       "    </tr>\n",
       "    <tr>\n",
       "      <th>1</th>\n",
       "      <td>1</td>\n",
       "      <td>Ok lar... Joking wif u oni...</td>\n",
       "    </tr>\n",
       "    <tr>\n",
       "      <th>2</th>\n",
       "      <td>0</td>\n",
       "      <td>Free entry in 2 a wkly comp to win FA Cup fina...</td>\n",
       "    </tr>\n",
       "    <tr>\n",
       "      <th>3</th>\n",
       "      <td>1</td>\n",
       "      <td>U dun say so early hor... U c already then say...</td>\n",
       "    </tr>\n",
       "    <tr>\n",
       "      <th>4</th>\n",
       "      <td>1</td>\n",
       "      <td>Nah I don't think he goes to usf, he lives aro...</td>\n",
       "    </tr>\n",
       "    <tr>\n",
       "      <th>...</th>\n",
       "      <td>...</td>\n",
       "      <td>...</td>\n",
       "    </tr>\n",
       "    <tr>\n",
       "      <th>5567</th>\n",
       "      <td>0</td>\n",
       "      <td>This is the 2nd time we have tried 2 contact u...</td>\n",
       "    </tr>\n",
       "    <tr>\n",
       "      <th>5568</th>\n",
       "      <td>1</td>\n",
       "      <td>Will ü b going to esplanade fr home?</td>\n",
       "    </tr>\n",
       "    <tr>\n",
       "      <th>5569</th>\n",
       "      <td>1</td>\n",
       "      <td>Pity, * was in mood for that. So...any other s...</td>\n",
       "    </tr>\n",
       "    <tr>\n",
       "      <th>5570</th>\n",
       "      <td>1</td>\n",
       "      <td>The guy did some bitching but I acted like i'd...</td>\n",
       "    </tr>\n",
       "    <tr>\n",
       "      <th>5571</th>\n",
       "      <td>1</td>\n",
       "      <td>Rofl. Its true to its name</td>\n",
       "    </tr>\n",
       "  </tbody>\n",
       "</table>\n",
       "<p>5157 rows × 2 columns</p>\n",
       "</div>"
      ],
      "text/plain": [
       "      Category                                            Message\n",
       "0            1  Go until jurong point, crazy.. Available only ...\n",
       "1            1                      Ok lar... Joking wif u oni...\n",
       "2            0  Free entry in 2 a wkly comp to win FA Cup fina...\n",
       "3            1  U dun say so early hor... U c already then say...\n",
       "4            1  Nah I don't think he goes to usf, he lives aro...\n",
       "...        ...                                                ...\n",
       "5567         0  This is the 2nd time we have tried 2 contact u...\n",
       "5568         1               Will ü b going to esplanade fr home?\n",
       "5569         1  Pity, * was in mood for that. So...any other s...\n",
       "5570         1  The guy did some bitching but I acted like i'd...\n",
       "5571         1                         Rofl. Its true to its name\n",
       "\n",
       "[5157 rows x 2 columns]"
      ]
     },
     "execution_count": 46,
     "metadata": {},
     "output_type": "execute_result"
    }
   ],
   "source": [
    "mail_data.drop_duplicates()"
   ]
  },
  {
   "cell_type": "markdown",
   "id": "13b81760-9ed4-4579-89ca-9f0cd7d818fe",
   "metadata": {},
   "source": [
    "#  Exploratory Data Analysis (EDA)"
   ]
  },
  {
   "cell_type": "markdown",
   "id": "6efb83d8-e734-480e-bf9e-3b9cb85da3a4",
   "metadata": {},
   "source": [
    "# 1. Spam or non-spam pie chart "
   ]
  },
  {
   "cell_type": "code",
   "execution_count": 12,
   "id": "10d530f5-49af-40d6-bd19-f88ba4fa53fb",
   "metadata": {},
   "outputs": [
    {
     "data": {
      "image/png": "[encoded data removed]",
      "text/plain": [
       "<Figure size 640x480 with 1 Axes>"
      ]
     },
     "metadata": {},
     "output_type": "display_data"
    }
   ],
   "source": [
    "# Spam or non-spam pie chart \n",
    "import matplotlib.pyplot as plt\n",
    "\n",
    "# a DataFrame 'mail_data' with a 'Category' column (0 for spam, 1 for non-spam)\n",
    "spam_counts = mail_data['Category'].value_counts()\n",
    "labels = ['Spam', 'Non-Spam']\n",
    "\n",
    "plt.pie(spam_counts, labels=labels, autopct='%1.1f%%')\n",
    "plt.title('Spam vs. Non-Spam Distribution')\n",
    "plt.show()\n"
   ]
  },
  {
   "cell_type": "markdown",
   "id": "f83565f0-1bda-4ac3-963d-1e2ee46ff6db",
   "metadata": {},
   "source": [
    "# 2. character , word , Sentence Count"
   ]
  },
  {
   "cell_type": "code",
   "execution_count": 13,
   "id": "7b054f93-3428-4a00-95fc-90c8c8d347c5",
   "metadata": {},
   "outputs": [
    {
     "name": "stdin",
     "output_type": "stream",
     "text": [
      "Enter value to see  20\n"
     ]
    },
    {
     "name": "stdout",
     "output_type": "stream",
     "text": [
      "Character count: 41\n",
      "Word count: 8\n",
      "Sentence count: 1\n"
     ]
    }
   ],
   "source": [
    "def get_character_count(text):\n",
    "    return len(text)\n",
    "\n",
    "def get_word_count(text):\n",
    "    return len(text.split())\n",
    "\n",
    "def get_sentence_count(text):\n",
    "    sentences = text.split('.')\n",
    "    return len(sentences)\n",
    "\n",
    "user_value = int(input(\"Enter value to see \"))\n",
    "email_text = mail_data['Message'].iloc[user_value]  \n",
    "char_count = get_character_count(email_text)\n",
    "word_count = get_word_count(email_text)\n",
    "sentence_count = get_sentence_count(email_text)\n",
    "\n",
    "print(f\"Character count: {char_count}\")\n",
    "print(f\"Word count: {word_count}\")\n",
    "print(f\"Sentence count: {sentence_count}\")\n"
   ]
  },
  {
   "cell_type": "markdown",
   "id": "414aaa7e-4582-4818-aac8-1958eb464c90",
   "metadata": {},
   "source": [
    "#  Seprating data and label "
   ]
  },
  {
   "cell_type": "code",
   "execution_count": 14,
   "id": "75c64c55-dcd4-4826-806f-27c30b9de803",
   "metadata": {},
   "outputs": [],
   "source": [
    "# seprating data and label \n",
    "X = mail_data['Message']\n",
    "Y = mail_data['Category']"
   ]
  },
  {
   "cell_type": "code",
   "execution_count": 15,
   "id": "336674ae-0b9f-4111-a469-7b4746b13e8f",
   "metadata": {},
   "outputs": [
    {
     "name": "stdout",
     "output_type": "stream",
     "text": [
      "0       Go until jurong point, crazy.. Available only ...\n",
      "1                           Ok lar... Joking wif u oni...\n",
      "2       Free entry in 2 a wkly comp to win FA Cup fina...\n",
      "3       U dun say so early hor... U c already then say...\n",
      "4       Nah I don't think he goes to usf, he lives aro...\n",
      "                              ...                        \n",
      "5567    This is the 2nd time we have tried 2 contact u...\n",
      "5568                 Will ü b going to esplanade fr home?\n",
      "5569    Pity, * was in mood for that. So...any other s...\n",
      "5570    The guy did some bitching but I acted like i'd...\n",
      "5571                           Rofl. Its true to its name\n",
      "Name: Message, Length: 5572, dtype: object\n",
      "------------------------------------------------------------\n",
      "0       1\n",
      "1       1\n",
      "2       0\n",
      "3       1\n",
      "4       1\n",
      "       ..\n",
      "5567    0\n",
      "5568    1\n",
      "5569    1\n",
      "5570    1\n",
      "5571    1\n",
      "Name: Category, Length: 5572, dtype: int64\n"
     ]
    }
   ],
   "source": [
    "print(X)\n",
    "print(\"---\"*20)\n",
    "print(Y)"
   ]
  },
  {
   "cell_type": "code",
   "execution_count": 16,
   "id": "a2f6910f-88b4-4a63-9b33-7f3f09095ce7",
   "metadata": {},
   "outputs": [
    {
     "name": "stdout",
     "output_type": "stream",
     "text": [
      "(5572,)\n",
      "----------------------------------------\n",
      "(5572,)\n"
     ]
    }
   ],
   "source": [
    "print(X.shape)\n",
    "print(\"--\"*20)\n",
    "print(Y.shape)"
   ]
  },
  {
   "cell_type": "code",
   "execution_count": 17,
   "id": "60637b70-cd8e-400a-850e-c63668d43a4b",
   "metadata": {},
   "outputs": [],
   "source": [
    "X_train , X_test , Y_train , Y_test = train_test_split(X , Y , random_state=5 , test_size = 0.2)"
   ]
  },
  {
   "cell_type": "code",
   "execution_count": 18,
   "id": "fe671804-0292-4e27-a472-329904e96dc1",
   "metadata": {},
   "outputs": [
    {
     "name": "stdout",
     "output_type": "stream",
     "text": [
      "X_training Data Shape (4457,)\n",
      "---*---*---*---*---*---*---*---*---*---*\n",
      "X_testing Data Shape  (1115,)\n",
      "---*---*---*---*---*---*---*---*---*---*\n",
      "Y_training data shape (4457,)\n",
      "---*---*---*---*---*---*---*---*---*---*\n",
      "Y_testing data shape (1115,)\n"
     ]
    }
   ],
   "source": [
    "print(\"X_training Data Shape\" , X_train.shape)\n",
    "print(\"---*---*\"*5)\n",
    "print(\"X_testing Data Shape \" , X_test.shape)\n",
    "print(\"---*---*\"*5)\n",
    "print(\"Y_training data shape\",Y_train.shape)\n",
    "print(\"---*---*\"*5)\n",
    "print(\"Y_testing data shape\" , Y_test.shape)"
   ]
  },
  {
   "cell_type": "markdown",
   "id": "9d9d010a-6594-42e8-9c96-12b3ffe3bf41",
   "metadata": {},
   "source": [
    "# Feature Extraction"
   ]
  },
  {
   "cell_type": "code",
   "execution_count": 19,
   "id": "10f2ff8b-7f2b-4bee-a634-6cec44681f94",
   "metadata": {},
   "outputs": [],
   "source": [
    "# transfer the text data into feature vector so that it can be used in logistic regression\n",
    "feature_extraction = TfidfVectorizer(min_df = 1 , stop_words = 'english' , lowercase = True)"
   ]
  },
  {
   "cell_type": "code",
   "execution_count": 20,
   "id": "54896d6a-8c78-4af4-8164-221c3106c625",
   "metadata": {},
   "outputs": [
    {
     "data": {
      "text/html": [
       "<style>#sk-container-id-1 {color: black;}#sk-container-id-1 pre{padding: 0;}#sk-container-id-1 div.sk-toggleable {background-color: white;}#sk-container-id-1 label.sk-toggleable__label {cursor: pointer;display: block;width: 100%;margin-bottom: 0;padding: 0.3em;box-sizing: border-box;text-align: center;}#sk-container-id-1 label.sk-toggleable__label-arrow:before {content: \"▸\";float: left;margin-right: 0.25em;color: #696969;}#sk-container-id-1 label.sk-toggleable__label-arrow:hover:before {color: black;}#sk-container-id-1 div.sk-estimator:hover label.sk-toggleable__label-arrow:before {color: black;}#sk-container-id-1 div.sk-toggleable__content {max-height: 0;max-width: 0;overflow: hidden;text-align: left;background-color: #f0f8ff;}#sk-container-id-1 div.sk-toggleable__content pre {margin: 0.2em;color: black;border-radius: 0.25em;background-color: #f0f8ff;}#sk-container-id-1 input.sk-toggleable__control:checked~div.sk-toggleable__content {max-height: 200px;max-width: 100%;overflow: auto;}#sk-container-id-1 input.sk-toggleable__control:checked~label.sk-toggleable__label-arrow:before {content: \"▾\";}#sk-container-id-1 div.sk-estimator input.sk-toggleable__control:checked~label.sk-toggleable__label {background-color: #d4ebff;}#sk-container-id-1 div.sk-label input.sk-toggleable__control:checked~label.sk-toggleable__label {background-color: #d4ebff;}#sk-container-id-1 input.sk-hidden--visually {border: 0;clip: rect(1px 1px 1px 1px);clip: rect(1px, 1px, 1px, 1px);height: 1px;margin: -1px;overflow: hidden;padding: 0;position: absolute;width: 1px;}#sk-container-id-1 div.sk-estimator {font-family: monospace;background-color: #f0f8ff;border: 1px dotted black;border-radius: 0.25em;box-sizing: border-box;margin-bottom: 0.5em;}#sk-container-id-1 div.sk-estimator:hover {background-color: #d4ebff;}#sk-container-id-1 div.sk-parallel-item::after {content: \"\";width: 100%;border-bottom: 1px solid gray;flex-grow: 1;}#sk-container-id-1 div.sk-label:hover label.sk-toggleable__label {background-color: #d4ebff;}#sk-container-id-1 div.sk-serial::before {content: \"\";position: absolute;border-left: 1px solid gray;box-sizing: border-box;top: 0;bottom: 0;left: 50%;z-index: 0;}#sk-container-id-1 div.sk-serial {display: flex;flex-direction: column;align-items: center;background-color: white;padding-right: 0.2em;padding-left: 0.2em;position: relative;}#sk-container-id-1 div.sk-item {position: relative;z-index: 1;}#sk-container-id-1 div.sk-parallel {display: flex;align-items: stretch;justify-content: center;background-color: white;position: relative;}#sk-container-id-1 div.sk-item::before, #sk-container-id-1 div.sk-parallel-item::before {content: \"\";position: absolute;border-left: 1px solid gray;box-sizing: border-box;top: 0;bottom: 0;left: 50%;z-index: -1;}#sk-container-id-1 div.sk-parallel-item {display: flex;flex-direction: column;z-index: 1;position: relative;background-color: white;}#sk-container-id-1 div.sk-parallel-item:first-child::after {align-self: flex-end;width: 50%;}#sk-container-id-1 div.sk-parallel-item:last-child::after {align-self: flex-start;width: 50%;}#sk-container-id-1 div.sk-parallel-item:only-child::after {width: 0;}#sk-container-id-1 div.sk-dashed-wrapped {border: 1px dashed gray;margin: 0 0.4em 0.5em 0.4em;box-sizing: border-box;padding-bottom: 0.4em;background-color: white;}#sk-container-id-1 div.sk-label label {font-family: monospace;font-weight: bold;display: inline-block;line-height: 1.2em;}#sk-container-id-1 div.sk-label-container {text-align: center;}#sk-container-id-1 div.sk-container {/* jupyter's `normalize.less` sets `[hidden] { display: none; }` but bootstrap.min.css set `[hidden] { display: none !important; }` so we also need the `!important` here to be able to override the default hidden behavior on the sphinx rendered scikit-learn.org. See: https://github.com/scikit-learn/scikit-learn/issues/21755 */display: inline-block !important;position: relative;}#sk-container-id-1 div.sk-text-repr-fallback {display: none;}</style><div id=\"sk-container-id-1\" class=\"sk-top-container\"><div class=\"sk-text-repr-fallback\"><pre>TfidfVectorizer(stop_words=&#x27;english&#x27;)</pre><b>In a Jupyter environment, please rerun this cell to show the HTML representation or trust the notebook. <br />On GitHub, the HTML representation is unable to render, please try loading this page with nbviewer.org.</b></div><div class=\"sk-container\" hidden><div class=\"sk-item\"><div class=\"sk-estimator sk-toggleable\"><input class=\"sk-toggleable__control sk-hidden--visually\" id=\"sk-estimator-id-1\" type=\"checkbox\" checked><label for=\"sk-estimator-id-1\" class=\"sk-toggleable__label sk-toggleable__label-arrow\">TfidfVectorizer</label><div class=\"sk-toggleable__content\"><pre>TfidfVectorizer(stop_words=&#x27;english&#x27;)</pre></div></div></div></div></div>"
      ],
      "text/plain": [
       "TfidfVectorizer(stop_words='english')"
      ]
     },
     "execution_count": 20,
     "metadata": {},
     "output_type": "execute_result"
    }
   ],
   "source": [
    "feature_extraction"
   ]
  },
  {
   "cell_type": "code",
   "execution_count": 21,
   "id": "2c86756a-870e-4ded-915c-78d078d8d809",
   "metadata": {},
   "outputs": [],
   "source": [
    "X_train_features = feature_extraction.fit_transform(X_train)"
   ]
  },
  {
   "cell_type": "code",
   "execution_count": 22,
   "id": "ebc0246e-1fbf-4a0d-9464-7f1cbab2b3a0",
   "metadata": {},
   "outputs": [],
   "source": [
    "X_test_features = feature_extraction.transform(X_test)"
   ]
  },
  {
   "cell_type": "code",
   "execution_count": 23,
   "id": "fbaab569-04fd-45f5-bfb3-b5da6992b7d2",
   "metadata": {},
   "outputs": [],
   "source": [
    "# Convert Y_train and Y_test to integers\n",
    "Y_train  =  Y_train.astype('int')\n",
    "Y_test = Y_test.astype('int')"
   ]
  },
  {
   "cell_type": "code",
   "execution_count": 24,
   "id": "9f2e46d8-beb1-4134-98be-07d5a7f824ae",
   "metadata": {
    "scrolled": true
   },
   "outputs": [
    {
     "name": "stdout",
     "output_type": "stream",
     "text": [
      "X_train feature data is    (0, 3916)\t0.6037953148318957\n",
      "  (0, 3056)\t0.3429005562464134\n",
      "  (0, 4893)\t0.6433735801583021\n",
      "  (0, 3068)\t0.32236758935606574\n",
      "  (1, 5720)\t0.6023019309762907\n",
      "  (1, 6542)\t0.5742615392242952\n",
      "  (1, 3970)\t0.2895925989409213\n",
      "  (1, 6110)\t0.4728553638784458\n",
      "  (2, 53)\t0.2275977849591067\n",
      "  (2, 5502)\t0.16144032675968542\n",
      "  (2, 1582)\t0.2275977849591067\n",
      "  (2, 6557)\t0.21161850376233796\n",
      "  (2, 260)\t0.19690190061164803\n",
      "  (2, 4387)\t0.1624258510707269\n",
      "  (2, 4347)\t0.2040320228676743\n",
      "  (2, 2878)\t0.4232962626786592\n",
      "  (2, 434)\t0.2587500279452028\n",
      "  (2, 2182)\t0.27253511506960687\n",
      "  (2, 4988)\t0.1604825674220973\n",
      "  (2, 1850)\t0.21615833183721392\n",
      "  (2, 453)\t0.2587500279452028\n",
      "  (2, 4630)\t0.18805274167090552\n",
      "  (2, 4587)\t0.16079883210369647\n",
      "  (2, 7099)\t0.14954143140130233\n",
      "  (2, 635)\t0.29610087716103933\n",
      "  :\t:\n",
      "  (4454, 2954)\t0.5425177822436338\n",
      "  (4454, 4823)\t0.5172606639045361\n",
      "  (4454, 3557)\t0.5172606639045361\n",
      "  (4454, 3064)\t0.41298579528057155\n",
      "  (4455, 5046)\t0.5672102378436935\n",
      "  (4455, 5597)\t0.5672102378436935\n",
      "  (4455, 4039)\t0.39560309040558683\n",
      "  (4455, 2525)\t0.4472619892547883\n",
      "  (4456, 2638)\t0.30597459416799505\n",
      "  (4456, 5540)\t0.30597459416799505\n",
      "  (4456, 4845)\t0.2917298324540132\n",
      "  (4456, 563)\t0.2917298324540132\n",
      "  (4456, 6531)\t0.2737835550988689\n",
      "  (4456, 6904)\t0.23291985119000655\n",
      "  (4456, 5056)\t0.17466313970905117\n",
      "  (4456, 3545)\t0.24021461765587865\n",
      "  (4456, 6582)\t0.28162301317533217\n",
      "  (4456, 5509)\t0.25313348974736855\n",
      "  (4456, 7159)\t0.24608354591083306\n",
      "  (4456, 4332)\t0.1901855660480611\n",
      "  (4456, 6101)\t0.16362766975061835\n",
      "  (4456, 4716)\t0.2108356313995615\n",
      "  (4456, 4385)\t0.22017028981240724\n",
      "  (4456, 3284)\t0.1935991136413851\n",
      "  (4456, 5502)\t0.16682368163258793\n"
     ]
    }
   ],
   "source": [
    "print(\"X_train feature data is \" , X_train_features)"
   ]
  },
  {
   "cell_type": "code",
   "execution_count": 25,
   "id": "8aaad844-92cd-4ce6-a8e0-8aa29176db56",
   "metadata": {
    "scrolled": true
   },
   "outputs": [
    {
     "name": "stdout",
     "output_type": "stream",
     "text": [
      "X_test feature data is    (0, 6899)\t0.2846292447250661\n",
      "  (0, 6221)\t0.23325359877184784\n",
      "  (0, 5920)\t0.21308623130535415\n",
      "  (0, 5207)\t0.23122407917377785\n",
      "  (0, 5083)\t0.22748305109015973\n",
      "  (0, 3468)\t0.23540619276171187\n",
      "  (0, 2637)\t0.23325359877184784\n",
      "  (0, 1829)\t0.2142899712083444\n",
      "  (0, 1773)\t0.17610740513694134\n",
      "  (0, 1380)\t0.23122407917377785\n",
      "  (0, 796)\t0.2107946667800347\n",
      "  (0, 637)\t0.2846292447250661\n",
      "  (0, 507)\t0.29484395092193777\n",
      "  (0, 356)\t0.2647590080844105\n",
      "  (0, 157)\t0.3092407707067434\n",
      "  (0, 29)\t0.3092407707067434\n",
      "  (1, 6646)\t0.5296040393655135\n",
      "  (1, 6565)\t0.6753213071437494\n",
      "  (1, 5604)\t0.5132842230240372\n",
      "  (2, 7273)\t0.19188099636765857\n",
      "  (2, 7157)\t0.2783719475618076\n",
      "  (2, 6968)\t0.24109430737692425\n",
      "  (2, 6796)\t0.21621294078661296\n",
      "  (2, 5920)\t0.22404234566464956\n",
      "  (2, 5209)\t0.19404580930125934\n",
      "  :\t:\n",
      "  (1111, 2420)\t0.6479775605087087\n",
      "  (1112, 5718)\t0.36829029784822664\n",
      "  (1112, 5276)\t0.3647397343460679\n",
      "  (1112, 5013)\t0.4568329450944841\n",
      "  (1112, 3490)\t0.5752405839777922\n",
      "  (1112, 3221)\t0.2876202919888961\n",
      "  (1112, 3153)\t0.3301570552895019\n",
      "  (1113, 6968)\t0.30687969773970125\n",
      "  (1113, 6927)\t0.25637182880963716\n",
      "  (1113, 5209)\t0.24699346887908202\n",
      "  (1113, 4677)\t0.24291789920606127\n",
      "  (1113, 4387)\t0.2270220955985448\n",
      "  (1113, 3983)\t0.28517490962974906\n",
      "  (1113, 3869)\t0.32871630060093787\n",
      "  (1113, 1571)\t0.3249127361775833\n",
      "  (1113, 1380)\t0.3094489281576928\n",
      "  (1113, 1144)\t0.28210809155138045\n",
      "  (1113, 354)\t0.3044422820729941\n",
      "  (1113, 293)\t0.3249127361775833\n",
      "  (1114, 7340)\t0.4291814322157445\n",
      "  (1114, 4754)\t0.4414705189135805\n",
      "  (1114, 3884)\t0.32695034910234516\n",
      "  (1114, 3710)\t0.47964390885065905\n",
      "  (1114, 2302)\t0.3968105156363861\n",
      "  (1114, 1533)\t0.3556595053926114\n"
     ]
    }
   ],
   "source": [
    "print(\"X_test feature data is \" , X_test_features)"
   ]
  },
  {
   "cell_type": "markdown",
   "id": "32e3603a-f75e-4b37-904e-0f1e9187f49c",
   "metadata": {},
   "source": [
    "# Model Training"
   ]
  },
  {
   "cell_type": "markdown",
   "id": "6396682e-9039-4678-b768-52966c31828b",
   "metadata": {},
   "source": [
    "# 1.LogisticRegression"
   ]
  },
  {
   "cell_type": "code",
   "execution_count": 26,
   "id": "ca285879-8caf-4bd2-87ef-453fe245e61b",
   "metadata": {},
   "outputs": [],
   "source": [
    "model = LogisticRegression()"
   ]
  },
  {
   "cell_type": "code",
   "execution_count": 27,
   "id": "277059a9-eae0-4cce-87d0-6b6b8118a096",
   "metadata": {},
   "outputs": [
    {
     "data": {
      "text/html": [
       "<style>#sk-container-id-2 {color: black;}#sk-container-id-2 pre{padding: 0;}#sk-container-id-2 div.sk-toggleable {background-color: white;}#sk-container-id-2 label.sk-toggleable__label {cursor: pointer;display: block;width: 100%;margin-bottom: 0;padding: 0.3em;box-sizing: border-box;text-align: center;}#sk-container-id-2 label.sk-toggleable__label-arrow:before {content: \"▸\";float: left;margin-right: 0.25em;color: #696969;}#sk-container-id-2 label.sk-toggleable__label-arrow:hover:before {color: black;}#sk-container-id-2 div.sk-estimator:hover label.sk-toggleable__label-arrow:before {color: black;}#sk-container-id-2 div.sk-toggleable__content {max-height: 0;max-width: 0;overflow: hidden;text-align: left;background-color: #f0f8ff;}#sk-container-id-2 div.sk-toggleable__content pre {margin: 0.2em;color: black;border-radius: 0.25em;background-color: #f0f8ff;}#sk-container-id-2 input.sk-toggleable__control:checked~div.sk-toggleable__content {max-height: 200px;max-width: 100%;overflow: auto;}#sk-container-id-2 input.sk-toggleable__control:checked~label.sk-toggleable__label-arrow:before {content: \"▾\";}#sk-container-id-2 div.sk-estimator input.sk-toggleable__control:checked~label.sk-toggleable__label {background-color: #d4ebff;}#sk-container-id-2 div.sk-label input.sk-toggleable__control:checked~label.sk-toggleable__label {background-color: #d4ebff;}#sk-container-id-2 input.sk-hidden--visually {border: 0;clip: rect(1px 1px 1px 1px);clip: rect(1px, 1px, 1px, 1px);height: 1px;margin: -1px;overflow: hidden;padding: 0;position: absolute;width: 1px;}#sk-container-id-2 div.sk-estimator {font-family: monospace;background-color: #f0f8ff;border: 1px dotted black;border-radius: 0.25em;box-sizing: border-box;margin-bottom: 0.5em;}#sk-container-id-2 div.sk-estimator:hover {background-color: #d4ebff;}#sk-container-id-2 div.sk-parallel-item::after {content: \"\";width: 100%;border-bottom: 1px solid gray;flex-grow: 1;}#sk-container-id-2 div.sk-label:hover label.sk-toggleable__label {background-color: #d4ebff;}#sk-container-id-2 div.sk-serial::before {content: \"\";position: absolute;border-left: 1px solid gray;box-sizing: border-box;top: 0;bottom: 0;left: 50%;z-index: 0;}#sk-container-id-2 div.sk-serial {display: flex;flex-direction: column;align-items: center;background-color: white;padding-right: 0.2em;padding-left: 0.2em;position: relative;}#sk-container-id-2 div.sk-item {position: relative;z-index: 1;}#sk-container-id-2 div.sk-parallel {display: flex;align-items: stretch;justify-content: center;background-color: white;position: relative;}#sk-container-id-2 div.sk-item::before, #sk-container-id-2 div.sk-parallel-item::before {content: \"\";position: absolute;border-left: 1px solid gray;box-sizing: border-box;top: 0;bottom: 0;left: 50%;z-index: -1;}#sk-container-id-2 div.sk-parallel-item {display: flex;flex-direction: column;z-index: 1;position: relative;background-color: white;}#sk-container-id-2 div.sk-parallel-item:first-child::after {align-self: flex-end;width: 50%;}#sk-container-id-2 div.sk-parallel-item:last-child::after {align-self: flex-start;width: 50%;}#sk-container-id-2 div.sk-parallel-item:only-child::after {width: 0;}#sk-container-id-2 div.sk-dashed-wrapped {border: 1px dashed gray;margin: 0 0.4em 0.5em 0.4em;box-sizing: border-box;padding-bottom: 0.4em;background-color: white;}#sk-container-id-2 div.sk-label label {font-family: monospace;font-weight: bold;display: inline-block;line-height: 1.2em;}#sk-container-id-2 div.sk-label-container {text-align: center;}#sk-container-id-2 div.sk-container {/* jupyter's `normalize.less` sets `[hidden] { display: none; }` but bootstrap.min.css set `[hidden] { display: none !important; }` so we also need the `!important` here to be able to override the default hidden behavior on the sphinx rendered scikit-learn.org. See: https://github.com/scikit-learn/scikit-learn/issues/21755 */display: inline-block !important;position: relative;}#sk-container-id-2 div.sk-text-repr-fallback {display: none;}</style><div id=\"sk-container-id-2\" class=\"sk-top-container\"><div class=\"sk-text-repr-fallback\"><pre>LogisticRegression()</pre><b>In a Jupyter environment, please rerun this cell to show the HTML representation or trust the notebook. <br />On GitHub, the HTML representation is unable to render, please try loading this page with nbviewer.org.</b></div><div class=\"sk-container\" hidden><div class=\"sk-item\"><div class=\"sk-estimator sk-toggleable\"><input class=\"sk-toggleable__control sk-hidden--visually\" id=\"sk-estimator-id-2\" type=\"checkbox\" checked><label for=\"sk-estimator-id-2\" class=\"sk-toggleable__label sk-toggleable__label-arrow\">LogisticRegression</label><div class=\"sk-toggleable__content\"><pre>LogisticRegression()</pre></div></div></div></div></div>"
      ],
      "text/plain": [
       "LogisticRegression()"
      ]
     },
     "execution_count": 27,
     "metadata": {},
     "output_type": "execute_result"
    }
   ],
   "source": [
    "model.fit(X_train_features , Y_train)"
   ]
  },
  {
   "cell_type": "markdown",
   "id": "32747fda-7823-4dcc-961b-6bb754cbe66e",
   "metadata": {},
   "source": [
    "# Model Evaluation "
   ]
  },
  {
   "cell_type": "code",
   "execution_count": 28,
   "id": "ba6a7c81-b59d-432f-b102-e6b4bc41085e",
   "metadata": {},
   "outputs": [],
   "source": [
    "# prediciton on training data \n",
    "prediction_on_training_data = model.predict(X_train_features)"
   ]
  },
  {
   "cell_type": "code",
   "execution_count": 29,
   "id": "9fe8b1ef-b2c0-4dbd-b90b-e77286d697b4",
   "metadata": {},
   "outputs": [],
   "source": [
    "Accuracy = accuracy_score(prediction_on_training_data , Y_train )"
   ]
  },
  {
   "cell_type": "code",
   "execution_count": 30,
   "id": "cc09d5be-108a-4e6a-88a5-42faa0699695",
   "metadata": {},
   "outputs": [
    {
     "name": "stdout",
     "output_type": "stream",
     "text": [
      "Accuracy of the model is 0.9676912721561588\n"
     ]
    }
   ],
   "source": [
    "print(\"Accuracy of the model is\", Accuracy)"
   ]
  },
  {
   "cell_type": "markdown",
   "id": "dcbf0e8c-7cdd-465f-ad5c-8af8be2366cf",
   "metadata": {},
   "source": [
    "# prediciton on testing data "
   ]
  },
  {
   "cell_type": "code",
   "execution_count": 31,
   "id": "6a005c03-24e0-4b5e-935f-2ca94e15277c",
   "metadata": {},
   "outputs": [],
   "source": [
    "# prediciton on testing data \n",
    "prediction_on_testing_data = model.predict(X_test_features)"
   ]
  },
  {
   "cell_type": "code",
   "execution_count": 32,
   "id": "42901a3c-c75f-4a3d-8e87-3e71fc580709",
   "metadata": {},
   "outputs": [
    {
     "name": "stdout",
     "output_type": "stream",
     "text": [
      "Accuracy of the model is 0.9605381165919282\n"
     ]
    }
   ],
   "source": [
    "Accuracy = accuracy_score(prediction_on_testing_data , Y_test)\n",
    "print(\"Accuracy of the model is\", Accuracy)"
   ]
  },
  {
   "cell_type": "markdown",
   "id": "62d66561-6902-44ae-b918-408f789ebad4",
   "metadata": {},
   "source": [
    "# 2.Decision Tree"
   ]
  },
  {
   "cell_type": "code",
   "execution_count": 33,
   "id": "932bb1bc-4fc2-426d-8935-92381fa27f9f",
   "metadata": {},
   "outputs": [
    {
     "data": {
      "text/html": [
       "<style>#sk-container-id-3 {color: black;}#sk-container-id-3 pre{padding: 0;}#sk-container-id-3 div.sk-toggleable {background-color: white;}#sk-container-id-3 label.sk-toggleable__label {cursor: pointer;display: block;width: 100%;margin-bottom: 0;padding: 0.3em;box-sizing: border-box;text-align: center;}#sk-container-id-3 label.sk-toggleable__label-arrow:before {content: \"▸\";float: left;margin-right: 0.25em;color: #696969;}#sk-container-id-3 label.sk-toggleable__label-arrow:hover:before {color: black;}#sk-container-id-3 div.sk-estimator:hover label.sk-toggleable__label-arrow:before {color: black;}#sk-container-id-3 div.sk-toggleable__content {max-height: 0;max-width: 0;overflow: hidden;text-align: left;background-color: #f0f8ff;}#sk-container-id-3 div.sk-toggleable__content pre {margin: 0.2em;color: black;border-radius: 0.25em;background-color: #f0f8ff;}#sk-container-id-3 input.sk-toggleable__control:checked~div.sk-toggleable__content {max-height: 200px;max-width: 100%;overflow: auto;}#sk-container-id-3 input.sk-toggleable__control:checked~label.sk-toggleable__label-arrow:before {content: \"▾\";}#sk-container-id-3 div.sk-estimator input.sk-toggleable__control:checked~label.sk-toggleable__label {background-color: #d4ebff;}#sk-container-id-3 div.sk-label input.sk-toggleable__control:checked~label.sk-toggleable__label {background-color: #d4ebff;}#sk-container-id-3 input.sk-hidden--visually {border: 0;clip: rect(1px 1px 1px 1px);clip: rect(1px, 1px, 1px, 1px);height: 1px;margin: -1px;overflow: hidden;padding: 0;position: absolute;width: 1px;}#sk-container-id-3 div.sk-estimator {font-family: monospace;background-color: #f0f8ff;border: 1px dotted black;border-radius: 0.25em;box-sizing: border-box;margin-bottom: 0.5em;}#sk-container-id-3 div.sk-estimator:hover {background-color: #d4ebff;}#sk-container-id-3 div.sk-parallel-item::after {content: \"\";width: 100%;border-bottom: 1px solid gray;flex-grow: 1;}#sk-container-id-3 div.sk-label:hover label.sk-toggleable__label {background-color: #d4ebff;}#sk-container-id-3 div.sk-serial::before {content: \"\";position: absolute;border-left: 1px solid gray;box-sizing: border-box;top: 0;bottom: 0;left: 50%;z-index: 0;}#sk-container-id-3 div.sk-serial {display: flex;flex-direction: column;align-items: center;background-color: white;padding-right: 0.2em;padding-left: 0.2em;position: relative;}#sk-container-id-3 div.sk-item {position: relative;z-index: 1;}#sk-container-id-3 div.sk-parallel {display: flex;align-items: stretch;justify-content: center;background-color: white;position: relative;}#sk-container-id-3 div.sk-item::before, #sk-container-id-3 div.sk-parallel-item::before {content: \"\";position: absolute;border-left: 1px solid gray;box-sizing: border-box;top: 0;bottom: 0;left: 50%;z-index: -1;}#sk-container-id-3 div.sk-parallel-item {display: flex;flex-direction: column;z-index: 1;position: relative;background-color: white;}#sk-container-id-3 div.sk-parallel-item:first-child::after {align-self: flex-end;width: 50%;}#sk-container-id-3 div.sk-parallel-item:last-child::after {align-self: flex-start;width: 50%;}#sk-container-id-3 div.sk-parallel-item:only-child::after {width: 0;}#sk-container-id-3 div.sk-dashed-wrapped {border: 1px dashed gray;margin: 0 0.4em 0.5em 0.4em;box-sizing: border-box;padding-bottom: 0.4em;background-color: white;}#sk-container-id-3 div.sk-label label {font-family: monospace;font-weight: bold;display: inline-block;line-height: 1.2em;}#sk-container-id-3 div.sk-label-container {text-align: center;}#sk-container-id-3 div.sk-container {/* jupyter's `normalize.less` sets `[hidden] { display: none; }` but bootstrap.min.css set `[hidden] { display: none !important; }` so we also need the `!important` here to be able to override the default hidden behavior on the sphinx rendered scikit-learn.org. See: https://github.com/scikit-learn/scikit-learn/issues/21755 */display: inline-block !important;position: relative;}#sk-container-id-3 div.sk-text-repr-fallback {display: none;}</style><div id=\"sk-container-id-3\" class=\"sk-top-container\"><div class=\"sk-text-repr-fallback\"><pre>DecisionTreeClassifier(min_samples_leaf=30, random_state=0)</pre><b>In a Jupyter environment, please rerun this cell to show the HTML representation or trust the notebook. <br />On GitHub, the HTML representation is unable to render, please try loading this page with nbviewer.org.</b></div><div class=\"sk-container\" hidden><div class=\"sk-item\"><div class=\"sk-estimator sk-toggleable\"><input class=\"sk-toggleable__control sk-hidden--visually\" id=\"sk-estimator-id-3\" type=\"checkbox\" checked><label for=\"sk-estimator-id-3\" class=\"sk-toggleable__label sk-toggleable__label-arrow\">DecisionTreeClassifier</label><div class=\"sk-toggleable__content\"><pre>DecisionTreeClassifier(min_samples_leaf=30, random_state=0)</pre></div></div></div></div></div>"
      ],
      "text/plain": [
       "DecisionTreeClassifier(min_samples_leaf=30, random_state=0)"
      ]
     },
     "execution_count": 33,
     "metadata": {},
     "output_type": "execute_result"
    }
   ],
   "source": [
    "clf = DecisionTreeClassifier(criterion='gini', min_samples_leaf=30, random_state=0)\n",
    "clf.fit(X_train_features, Y_train)"
   ]
  },
  {
   "cell_type": "code",
   "execution_count": 34,
   "id": "b936bd0b-7769-4906-8a4a-141ecef82766",
   "metadata": {},
   "outputs": [],
   "source": [
    "# using training data \n",
    "y_pred = clf.predict(X_train_features)"
   ]
  },
  {
   "cell_type": "code",
   "execution_count": 35,
   "id": "6fc8fe2f-7bd7-4949-a928-fdc45a79e449",
   "metadata": {},
   "outputs": [],
   "source": [
    "Accuracy = accuracy_score(y_pred , Y_train )"
   ]
  },
  {
   "cell_type": "code",
   "execution_count": 36,
   "id": "ca5d0714-0c6e-41d2-b1f4-8f99ae7250de",
   "metadata": {},
   "outputs": [
    {
     "name": "stdout",
     "output_type": "stream",
     "text": [
      "Accuracy of the model is 0.941440430783038\n"
     ]
    }
   ],
   "source": [
    "print(\"Accuracy of the model is\", Accuracy)"
   ]
  },
  {
   "cell_type": "markdown",
   "id": "a2784c36-aed9-4183-90ad-0531d78cf7ee",
   "metadata": {},
   "source": [
    "# prediciton on testing data "
   ]
  },
  {
   "cell_type": "code",
   "execution_count": 37,
   "id": "e6bccdd4-0213-4bd5-bdb1-206ef14779dc",
   "metadata": {},
   "outputs": [],
   "source": [
    "# using testing data \n",
    "y_pred = clf.predict(X_test_features)"
   ]
  },
  {
   "cell_type": "code",
   "execution_count": 38,
   "id": "b7d77e28-c04a-45d6-b33e-4048f42914e3",
   "metadata": {},
   "outputs": [],
   "source": [
    "Accuracy = accuracy_score(y_pred , Y_test )"
   ]
  },
  {
   "cell_type": "code",
   "execution_count": 39,
   "id": "7472f65b-94cb-4d0c-b7ad-edb3ea35052b",
   "metadata": {},
   "outputs": [
    {
     "name": "stdout",
     "output_type": "stream",
     "text": [
      "Accuracy of the model is 0.9363228699551569\n"
     ]
    }
   ],
   "source": [
    "print(\"Accuracy of the model is\", Accuracy)"
   ]
  },
  {
   "cell_type": "markdown",
   "id": "ad91ea23-6e59-434e-9b4e-db6054460b5b",
   "metadata": {},
   "source": [
    "# Building a predictive system "
   ]
  },
  {
   "cell_type": "code",
   "execution_count": 44,
   "id": "c1944c7e-618a-4b91-ba60-f9dbda68c454",
   "metadata": {},
   "outputs": [
    {
     "name": "stdout",
     "output_type": "stream",
     "text": [
      "Spam Mail\n"
     ]
    }
   ],
   "source": [
    "input_mail = [\"\"\"Free entry in 2 a wkly comp to win FA Cup final tkts 21st May 2005. Text FA to 87121 to \n",
    "receive entry question(std txt rate)T&C's apply 08452810075over18's\"\"\"]\n",
    "\n",
    "input_data_features  = feature_extraction.transform(input_mail)\n",
    "\n",
    "prediction = model.predict(input_data_features)\n",
    "# print(prediction)\n",
    "\n",
    "if prediction[0] == 1:\n",
    "    print('Ham Mail')\n",
    "else: \n",
    "    print('Spam Mail')"
   ]
  },
  {
   "cell_type": "code",
   "execution_count": null,
   "id": "ebaf1f7f-74eb-4768-89c2-7114f03875c9",
   "metadata": {},
   "outputs": [],
   "source": []
  },
  {
   "cell_type": "code",
   "execution_count": null,
   "id": "074d6a6f-1ee7-47b8-bf92-c9738d246995",
   "metadata": {},
   "outputs": [],
   "source": []
  },
  {
   "cell_type": "code",
   "execution_count": null,
   "id": "ae12602a-86d4-44d0-b1d5-4fa8498c7a51",
   "metadata": {},
   "outputs": [],
   "source": []
  }
 ],
 "metadata": {
  "kernelspec": {
   "display_name": "Python 3 (ipykernel)",
   "language": "python",
   "name": "python3"
  },
  "language_info": {
   "codemirror_mode": {
    "name": "ipython",
    "version": 3
   },
   "file_extension": ".py",
   "mimetype": "text/x-python",
   "name": "python",
   "nbconvert_exporter": "python",
   "pygments_lexer": "ipython3",
   "version": "3.11.4"
  },
  "widgets": {
   "application/vnd.jupyter.widget-state+json": {
    "state": {},
    "version_major": 2,
    "version_minor": 0
   }
  }
 },
 "nbformat": 4,
 "nbformat_minor": 5
}
